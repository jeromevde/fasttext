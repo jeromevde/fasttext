{
 "cells": [
  {
   "cell_type": "markdown",
   "metadata": {
    "collapsed": true
   },
   "source": [
    "# Fasttext for financial entity classification\n",
    "Applied to classifying names into:\n",
    "* fund\n",
    "* company\n",
    "* bond"
   ]
  },
  {
   "cell_type": "code",
   "execution_count": 1,
   "metadata": {},
   "outputs": [],
   "source": [
    "#!pip install fasttext\n",
    "#!pip install pandas\n",
    "#!pip instal openxml\n",
    "#pip install scikit-learn\n",
    "#!pip install matplotlib\n",
    "#!pip install seaborn"
   ]
  },
  {
   "cell_type": "markdown",
   "metadata": {},
   "source": [
    "## Dataset"
   ]
  },
  {
   "cell_type": "code",
   "execution_count": 2,
   "metadata": {},
   "outputs": [
    {
     "data": {
      "text/plain": [
       "16000"
      ]
     },
     "execution_count": 2,
     "metadata": {},
     "output_type": "execute_result"
    }
   ],
   "source": [
    "import pandas as pd\n",
    "import random\n",
    "\n",
    "def get_data():\n",
    "    \n",
    "    df = pd.read_excel(io=\"company_bond_fund.xlsx\", sheet_name=\"dataset\")\n",
    "    \n",
    "    companies = df[\"company\"][:4000]\n",
    "    bonds = df[\"bond\"][:4000]\n",
    "    etfs = df[\"etf\"][:4000]\n",
    "    funds = df[\"fund\"][:4000]\n",
    "\n",
    "    data = []\n",
    "    for i,_ in enumerate(companies):\n",
    "        data.append((\"company\",companies[i]))\n",
    "        data.append((\"bond\", bonds[i]))\n",
    "        data.append((\"etf\", etfs[i]))\n",
    "        data.append((\"fund\", funds[i]))\n",
    "\n",
    "    random.shuffle(data)\n",
    "    return data\n",
    "\n",
    "data = get_data()\n",
    "len(data)"
   ]
  },
  {
   "cell_type": "markdown",
   "metadata": {},
   "source": [
    "## Preprocessing"
   ]
  },
  {
   "cell_type": "code",
   "execution_count": 3,
   "metadata": {},
   "outputs": [],
   "source": [
    "import re\n",
    "\n",
    "def preprocess(raw):\n",
    "    \"\"\" preprocess string or list of strings\"\"\"\n",
    "\n",
    "    def tune(string):\n",
    "        string =  str(string).replace(\"%\", \" % \")\n",
    "        string = string.replace(\";\",\" \")\n",
    "        string = string.replace(\",\",\" \")\n",
    "        string = string.replace(\".\",\" \")\n",
    "        string = string.replace(\":\",\" \")\n",
    "        string = re.sub(r\"([0-9]+(\\.[0-9]+)?)\",r\" \\1 \", string).strip()\n",
    "        return string\n",
    "    \n",
    "    if isinstance(raw, list):\n",
    "        res = []\n",
    "        for string in raw:\n",
    "            string = tune(string)\n",
    "            res.append(string)\n",
    "        return res\n",
    "    else:\n",
    "        return tune(str(raw))\n"
   ]
  },
  {
   "cell_type": "markdown",
   "metadata": {},
   "source": [
    "## Writing as fasttext compatible dataset"
   ]
  },
  {
   "cell_type": "code",
   "execution_count": 4,
   "metadata": {},
   "outputs": [
    {
     "name": "stdout",
     "output_type": "stream",
     "text": [
      "('bond', 'APHM 3   187  %  9 NOV 37')\n",
      "('company', 'Punjab National Bank')\n",
      "('fund', 'Schwab Capital Trust  Schwab Total Stock Market Index Fund')\n",
      "('company', 'Fifth Third Bank')\n",
      "('etf', 'Global X FTSE Southeast Asia ETF')\n",
      "('bond', 'ENGIE 1   5  %  13 MAR 35')\n",
      "('etf', 'Global X Telemedicine & Digital Health ETF')\n",
      "('etf', 'WBI Bull|Bear Trend Switch US  3000  Total Return ETF')\n",
      "('bond', 'CASA 1   7  %  7 MAY 2029')\n",
      "('company', 'AmerisourceBergen')\n",
      "('company', 'CONSOL Coal Resources')\n",
      "('bond', 'CRE 0   4 - 1   2  %  29 APR 22')\n",
      "('bond', 'CASA 4   2  %  29 MAY 34')\n",
      "('etf', 'iPath Series B Bloomberg Industrial Metals Subindex Total Return ETN')\n",
      "('etf', 'iShares MSCI Peru ETF')\n",
      "('etf', 'iShares MSCI UAE ETF')\n"
     ]
    }
   ],
   "source": [
    "# preprocess data\n",
    "for i,(l,d) in enumerate(data):\n",
    "    d_mod = preprocess(d)\n",
    "    data[i] = l,d_mod\n",
    "    if i%1003==0:\n",
    "        print(data[i])"
   ]
  },
  {
   "cell_type": "code",
   "execution_count": 5,
   "metadata": {},
   "outputs": [],
   "source": [
    "train, test, val =  data[0:10000], data[10000:12000], data[12000:14000]"
   ]
  },
  {
   "cell_type": "code",
   "execution_count": 6,
   "metadata": {},
   "outputs": [],
   "source": [
    "def write_data(data, name):\n",
    "    file = open(name,\"w+\")\n",
    "    for l,d in data:\n",
    "        file.write(f\"__label__{l} {d}\\n\")\n",
    "    \n",
    "\n",
    "write_data(train,\"fasttext_train.txt\" )\n",
    "write_data(test,\"fasttext_test.txt\" )\n",
    "write_data(val,\"fasttext_validate.txt\" )"
   ]
  },
  {
   "cell_type": "markdown",
   "metadata": {},
   "source": [
    "## Training"
   ]
  },
  {
   "cell_type": "code",
   "execution_count": 7,
   "metadata": {},
   "outputs": [
    {
     "data": {
      "text/plain": [
       "['__label__company', '__label__fund', '__label__bond', '__label__etf']"
      ]
     },
     "execution_count": 7,
     "metadata": {},
     "output_type": "execute_result"
    }
   ],
   "source": [
    "import fasttext\n",
    "model = fasttext.train_supervised('fasttext_train.txt')\n",
    "model.labels"
   ]
  },
  {
   "cell_type": "markdown",
   "metadata": {},
   "source": [
    "## Testing"
   ]
  },
  {
   "cell_type": "code",
   "execution_count": 8,
   "metadata": {},
   "outputs": [
    {
     "name": "stdout",
     "output_type": "stream",
     "text": [
      "N\t2000\n",
      "P@1\t0.991\n",
      "R@1\t0.991\n"
     ]
    }
   ],
   "source": [
    "def print_results(N, p, r):\n",
    "    print(\"N\\t\" + str(N))\n",
    "    print(\"P@{}\\t{:.3f}\".format(1, p))\n",
    "    print(\"R@{}\\t{:.3f}\".format(1, r))\n",
    "\n",
    "print_results(*model.test('fasttext_test.txt'))"
   ]
  },
  {
   "cell_type": "code",
   "execution_count": 13,
   "metadata": {},
   "outputs": [],
   "source": [
    "names = [x[1] for x in test]\n",
    "labels = [\"__label__\"+x[0] for x in test]\n",
    "\n",
    "# predict the data\n",
    "predicted = list(map(lambda x: model.predict(x)[0][0], names))\n"
   ]
  },
  {
   "cell_type": "code",
   "execution_count": 15,
   "metadata": {},
   "outputs": [
    {
     "name": "stderr",
     "output_type": "stream",
     "text": [
      "/home/jerome/miniconda3/envs/fund_classifier/lib/python3.9/site-packages/sklearn/utils/validation.py:70: FutureWarning: Pass labels=['__label__company', '__label__fund', '__label__etf', '__label__bond'] as keyword args. From version 1.0 (renaming of 0.25) passing these as positional arguments will result in an error\n",
      "  warnings.warn(f\"Pass {args_msg} as keyword args. From version \"\n"
     ]
    },
    {
     "data": {
      "image/png": "[encoded data removed]",
      "text/plain": [
       "<Figure size 560x560 with 1 Axes>"
      ]
     },
     "metadata": {
      "needs_background": "light"
     },
     "output_type": "display_data"
    }
   ],
   "source": [
    "import seaborn as sns\n",
    "import matplotlib.pyplot as plt   \n",
    "from sklearn.metrics import confusion_matrix\n",
    "\n",
    "def draw_cm(predicted_test, predicted):\n",
    "    labels = list(set(predicted_test + predicted))\n",
    "    cm = confusion_matrix(predicted_test, predicted, labels)\n",
    "    fig = plt.figure(figsize=(7,7), dpi=80)\n",
    "    ax= fig.add_subplot(111)\n",
    "    sns.heatmap(cm, annot=True, fmt='g', ax=ax, cbar=False);  \n",
    "    ax.set_xlabel('Predicted labels')\n",
    "    ax.set_ylabel('True labels')\n",
    "    ax.xaxis.set_ticklabels(labels)\n",
    "    ax.yaxis.set_ticklabels(labels)\n",
    "    \n",
    "draw_cm(labels, predicted)"
   ]
  },
  {
   "cell_type": "code",
   "execution_count": null,
   "metadata": {},
   "outputs": [],
   "source": []
  },
  {
   "cell_type": "markdown",
   "metadata": {},
   "source": [
    "## Validation"
   ]
  },
  {
   "cell_type": "code",
   "execution_count": 10,
   "metadata": {},
   "outputs": [
    {
     "data": {
      "text/plain": [
       "(('__label__company',), array([1.00000811]))"
      ]
     },
     "execution_count": 10,
     "metadata": {},
     "output_type": "execute_result"
    }
   ],
   "source": [
    "model.predict(\"test\")"
   ]
  },
  {
   "cell_type": "code",
   "execution_count": 16,
   "metadata": {},
   "outputs": [
    {
     "data": {
      "text/plain": [
       "([['__label__company'],\n",
       "  ['__label__company'],\n",
       "  ['__label__company'],\n",
       "  ['__label__bond']],\n",
       " [array([0.99870664], dtype=float32),\n",
       "  array([1.0000079], dtype=float32),\n",
       "  array([1.0000079], dtype=float32),\n",
       "  array([1.0000077], dtype=float32)])"
      ]
     },
     "execution_count": 16,
     "metadata": {},
     "output_type": "execute_result"
    }
   ],
   "source": [
    "model.predict(preprocess([\"Amazon\", \"Google\", \"some fund\", \"EU 5 % 2020\"]))"
   ]
  },
  {
   "cell_type": "code",
   "execution_count": 17,
   "metadata": {},
   "outputs": [
    {
     "name": "stdout",
     "output_type": "stream",
     "text": [
      "N\t2000\n",
      "P@1\t0.995\n",
      "R@1\t0.995\n"
     ]
    }
   ],
   "source": [
    "print_results(*model.test(\"fasttext_validate.txt\"))"
   ]
  },
  {
   "cell_type": "markdown",
   "metadata": {},
   "source": [
    "## Saving model"
   ]
  },
  {
   "cell_type": "code",
   "execution_count": 201,
   "metadata": {},
   "outputs": [],
   "source": [
    "#model.quantize(input='fasttext_train.txt', retrain=True)\n",
    "model.save_model(\"security_classifier.ftz\")"
   ]
  }
 ],
 "metadata": {
  "kernelspec": {
   "display_name": "Python [conda env:fund_classifier]",
   "language": "python",
   "name": "conda-env-fund_classifier-py"
  },
  "language_info": {
   "codemirror_mode": {
    "name": "ipython",
    "version": 3
   },
   "file_extension": ".py",
   "mimetype": "text/x-python",
   "name": "python",
   "nbconvert_exporter": "python",
   "pygments_lexer": "ipython3",
   "version": "3.9.5"
  }
 },
 "nbformat": 4,
 "nbformat_minor": 2
}
