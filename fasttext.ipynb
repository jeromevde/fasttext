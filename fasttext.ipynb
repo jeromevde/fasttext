{
 "cells": [
  {
   "cell_type": "markdown",
   "metadata": {
    "collapsed": true
   },
   "source": [
    "# Fasttext for financial entity classification\n",
    "Applied to classifying names into:\n",
    "* fund\n",
    "* company\n",
    "* bond"
   ]
  },
  {
   "cell_type": "code",
   "execution_count": 2,
   "metadata": {},
   "outputs": [],
   "source": [
    "#!pip install fasttext\n",
    "#!pip install pandas\n",
    "#!pip instal openxml\n",
    "#pip install scikit-learn\n",
    "#!pip install matplotlib\n",
    "#!pip install seaborn"
   ]
  },
  {
   "cell_type": "markdown",
   "metadata": {},
   "source": [
    "## Dataset"
   ]
  },
  {
   "cell_type": "code",
   "execution_count": 3,
   "metadata": {},
   "outputs": [
    {
     "data": {
      "text/plain": [
       "16000"
      ]
     },
     "execution_count": 3,
     "metadata": {},
     "output_type": "execute_result"
    }
   ],
   "source": [
    "import pandas as pd\n",
    "import random\n",
    "\n",
    "def get_data():\n",
    "    \n",
    "    df = pd.read_excel(io=\"company_bond_fund.xlsx\", sheet_name=\"dataset\")\n",
    "    \n",
    "    companies = df[\"company\"][:4000]\n",
    "    bonds = df[\"bond\"][:4000]\n",
    "    etfs = df[\"etf\"][:4000]\n",
    "    funds = df[\"fund\"][:4000]\n",
    "\n",
    "    data = []\n",
    "    for i,_ in enumerate(companies):\n",
    "        data.append((\"company\",companies[i]))\n",
    "        data.append((\"bond\", bonds[i]))\n",
    "        data.append((\"etf\", etfs[i]))\n",
    "        data.append((\"fund\", funds[i]))\n",
    "\n",
    "    random.shuffle(data)\n",
    "    return data\n",
    "\n",
    "data = get_data()\n",
    "len(data)"
   ]
  },
  {
   "cell_type": "markdown",
   "metadata": {},
   "source": [
    "## Preprocessing"
   ]
  },
  {
   "cell_type": "code",
   "execution_count": 8,
   "metadata": {},
   "outputs": [],
   "source": [
    "import re\n",
    "\n",
    "def preprocess(raw):\n",
    "    \"\"\" preprocess string or list of strings\"\"\"\n",
    "\n",
    "    def tune(string):\n",
    "        string =  str(string).replace(\"%\", \" % \")\n",
    "        string = string.replace(\";\",\" \")\n",
    "        string = string.replace(\",\",\" \")\n",
    "        string = string.replace(\".\",\" \")\n",
    "        string = string.replace(\":\",\" \")\n",
    "        string = re.sub(r\"([0-9]+(\\.[0-9]+)?)\",r\" \\1 \", string).strip()\n",
    "        return string\n",
    "    \n",
    "    if isinstance(raw, list):\n",
    "        res = []\n",
    "        for string in raw:\n",
    "            string = tune(string)\n",
    "            res.append(string)\n",
    "        return res\n",
    "    else:\n",
    "        return tune(str(raw))\n"
   ]
  },
  {
   "cell_type": "markdown",
   "metadata": {},
   "source": [
    "## Writing as fasttext compatible dataset"
   ]
  },
  {
   "cell_type": "code",
   "execution_count": 9,
   "metadata": {},
   "outputs": [
    {
     "name": "stdout",
     "output_type": "stream",
     "text": [
      "('fund', 'Meeder Funds  Meeder Balanced Fund  Adviser Class Shares')\n",
      "('etf', 'Xtrackers Harvest CSI  300  China A-Shares ETF')\n",
      "('bond', 'INDIGO 2   125  % APR 25')\n",
      "('bond', 'CMHLSF 0   75  %  10 APR 30')\n",
      "('etf', 'Principal U S  Small Cap Multi-Factor ETF')\n",
      "('bond', 'CASA 2   75  %  20 JUN 2024')\n",
      "('company', 'Welcia Holdings')\n",
      "('fund', 'BlackRock Liquidity Funds  Federal Trust Fund  Cash Reserve Shares')\n",
      "('fund', 'Lord Abbett Investment Trust  Lord Abbett Short Duration Income Fund  Class A Shares')\n",
      "('fund', 'T Rowe Price US Large-Cap Core Fund  Inc  Class I Shares')\n",
      "('etf', 'ARK Autonomous Technology & Robotics ETF')\n",
      "('fund', 'MassMutual Select Funds  MassMutual RetireSMART by JPMorgan  2050  Fund  Administrative Class Shares')\n",
      "('bond', 'BPCE 1   934  %  29 SP 25')\n",
      "('company', 'Okta')\n",
      "('bond', 'ENTRA 12  ESG')\n",
      "('bond', 'CDC 1   44  %  25 NOV 30')\n"
     ]
    }
   ],
   "source": [
    "# preprocess data\n",
    "for i,(l,d) in enumerate(data):\n",
    "    d_mod = preprocess(d)\n",
    "    data[i] = l,d_mod\n",
    "    if i%1003==0:\n",
    "        print(data[i])"
   ]
  },
  {
   "cell_type": "code",
   "execution_count": 10,
   "metadata": {},
   "outputs": [],
   "source": [
    "train, test, val =  data[0:10000], data[10000:12000], data[12000:14000]"
   ]
  },
  {
   "cell_type": "code",
   "execution_count": 11,
   "metadata": {},
   "outputs": [],
   "source": [
    "def write_data(data, name):\n",
    "    file = open(name,\"w+\")\n",
    "    for l,d in data:\n",
    "        file.write(f\"__label__{l} {d}\\n\")\n",
    "    \n",
    "\n",
    "write_data(train,\"fasttext_train.txt\" )\n",
    "write_data(test,\"fasttext_test.txt\" )\n",
    "write_data(val,\"fasttext_validate.txt\" )"
   ]
  },
  {
   "cell_type": "markdown",
   "metadata": {},
   "source": [
    "## Training"
   ]
  },
  {
   "cell_type": "code",
   "execution_count": 12,
   "metadata": {},
   "outputs": [
    {
     "data": {
      "text/plain": [
       "['__label__etf', '__label__company', '__label__fund', '__label__bond']"
      ]
     },
     "execution_count": 12,
     "metadata": {},
     "output_type": "execute_result"
    }
   ],
   "source": [
    "import fasttext\n",
    "model = fasttext.train_supervised('fasttext_train.txt')\n",
    "model.labels"
   ]
  },
  {
   "cell_type": "markdown",
   "metadata": {},
   "source": [
    "## Testing"
   ]
  },
  {
   "cell_type": "code",
   "execution_count": 13,
   "metadata": {},
   "outputs": [
    {
     "name": "stdout",
     "output_type": "stream",
     "text": [
      "N\t2000\n",
      "P@1\t0.989\n",
      "R@1\t0.989\n"
     ]
    }
   ],
   "source": [
    "def print_results(N, p, r):\n",
    "    print(\"N\\t\" + str(N))\n",
    "    print(\"P@{}\\t{:.3f}\".format(1, p))\n",
    "    print(\"R@{}\\t{:.3f}\".format(1, r))\n",
    "\n",
    "print_results(*model.test('fasttext_test.txt'))"
   ]
  },
  {
   "cell_type": "code",
   "execution_count": 20,
   "metadata": {},
   "outputs": [
    {
     "data": {
      "text/plain": [
       "array([[497,   3,   0,   0],\n",
       "       [  0, 493,   3,   0],\n",
       "       [  0,   0, 493,   6],\n",
       "       [  0,   1,   9, 495]])"
      ]
     },
     "execution_count": 20,
     "metadata": {},
     "output_type": "execute_result"
    }
   ],
   "source": [
    "# Confusion matrix\n",
    "from sklearn.metrics import confusion_matrix\n",
    "import matplotlib.pyplot as plt\n",
    "import seaborn as sn\n",
    "\n",
    "names = [x[1] for x in test]\n",
    "labels = [\"__label__\"+x[0] for x in test]\n",
    "\n",
    "# predict the data\n",
    "predicted = list(map(lambda x: model.predict(x)[0][0], names))\n",
    "\n",
    "# Create the confusion matrix\n",
    "cm = confusion_matrix(labels, predicted)\n",
    "cm"
   ]
  },
  {
   "cell_type": "markdown",
   "metadata": {},
   "source": [
    "## Validation"
   ]
  },
  {
   "cell_type": "code",
   "execution_count": 15,
   "metadata": {},
   "outputs": [
    {
     "data": {
      "text/plain": [
       "(('__label__company',), array([1.00000787]))"
      ]
     },
     "execution_count": 15,
     "metadata": {},
     "output_type": "execute_result"
    }
   ],
   "source": [
    "model.predict(\"test\")"
   ]
  },
  {
   "cell_type": "code",
   "execution_count": 16,
   "metadata": {},
   "outputs": [
    {
     "data": {
      "text/plain": [
       "([['__label__company'],\n",
       "  ['__label__company'],\n",
       "  ['__label__company'],\n",
       "  ['__label__bond']],\n",
       " [array([0.99870664], dtype=float32),\n",
       "  array([1.0000079], dtype=float32),\n",
       "  array([1.0000079], dtype=float32),\n",
       "  array([1.0000077], dtype=float32)])"
      ]
     },
     "execution_count": 16,
     "metadata": {},
     "output_type": "execute_result"
    }
   ],
   "source": [
    "model.predict(preprocess([\"Amazon\", \"Google\", \"some fund\", \"EU 5 % 2020\"]))"
   ]
  },
  {
   "cell_type": "code",
   "execution_count": 17,
   "metadata": {},
   "outputs": [
    {
     "name": "stdout",
     "output_type": "stream",
     "text": [
      "N\t2000\n",
      "P@1\t0.995\n",
      "R@1\t0.995\n"
     ]
    }
   ],
   "source": [
    "print_results(*model.test(\"fasttext_validate.txt\"))"
   ]
  },
  {
   "cell_type": "markdown",
   "metadata": {},
   "source": [
    "## Saving model"
   ]
  },
  {
   "cell_type": "code",
   "execution_count": 201,
   "metadata": {},
   "outputs": [],
   "source": [
    "#model.quantize(input='fasttext_train.txt', retrain=True)\n",
    "model.save_model(\"security_classifier.ftz\")"
   ]
  }
 ],
 "metadata": {
  "kernelspec": {
   "display_name": "Python [conda env:fund_classifier]",
   "language": "python",
   "name": "conda-env-fund_classifier-py"
  },
  "language_info": {
   "codemirror_mode": {
    "name": "ipython",
    "version": 3
   },
   "file_extension": ".py",
   "mimetype": "text/x-python",
   "name": "python",
   "nbconvert_exporter": "python",
   "pygments_lexer": "ipython3",
   "version": "3.9.5"
  }
 },
 "nbformat": 4,
 "nbformat_minor": 2
}
